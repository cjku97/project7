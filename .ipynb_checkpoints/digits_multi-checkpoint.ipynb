{
 "cells": [
  {
   "cell_type": "code",
   "execution_count": 1,
   "metadata": {},
   "outputs": [],
   "source": [
    "import numpy as np\n",
    "import pandas as pd\n",
    "import matplotlib.pyplot as plt\n",
    "from nn import (io, nn, preprocess)\n",
    "from sklearn.datasets import load_digits\n",
    "from sklearn.model_selection import train_test_split\n",
    "from sklearn.preprocessing import StandardScaler\n",
    "from sklearn.metrics import confusion_matrix\n",
    "from sklearn.metrics import classification_report\n",
    "from sklearn.metrics import roc_auc_score\n",
    "from sklearn.metrics import roc_curve"
   ]
  },
  {
   "cell_type": "code",
   "execution_count": 2,
   "metadata": {},
   "outputs": [
    {
     "name": "stdout",
     "output_type": "stream",
     "text": [
      "(1797, 64)\n"
     ]
    }
   ],
   "source": [
    "# simulate dataset\n",
    "digits = load_digits()\n",
    "print(digits.data.shape)\n",
    "X_all = digits.data\n",
    "y_all = digits.target"
   ]
  },
  {
   "cell_type": "code",
   "execution_count": 3,
   "metadata": {},
   "outputs": [
    {
     "name": "stdout",
     "output_type": "stream",
     "text": [
      "(1203, 64)\n",
      "(1203,)\n"
     ]
    }
   ],
   "source": [
    "# split into training and test sets\n",
    "X_train, X_test, y_train, y_test = train_test_split(X_all, y_all, test_size=0.33, random_state=42)\n",
    "print(X_train.shape)\n",
    "print(y_train.shape)\n",
    "\n",
    "test_arch = [{'input_dim': 64, 'output_dim': 32, 'activation': 'relu'},\n",
    "\t\t\t {'input_dim': 32, 'output_dim': 16, 'activation': 'relu'},\n",
    "\t\t\t {'input_dim': 16, 'output_dim': 32, 'activation': 'relu'},\n",
    "\t\t\t {'input_dim': 32, 'output_dim': 64, 'activation': 'relu'},\n",
    "\t\t\t {'input_dim': 64, 'output_dim': 1, 'activation': 'sigmoid'}]"
   ]
  },
  {
   "cell_type": "code",
   "execution_count": 4,
   "metadata": {},
   "outputs": [],
   "source": [
    "nn_auto = nn.NeuralNetwork(nn_arch = test_arch,\n",
    "                           lr = 0.001, \n",
    "                           seed = 29, \n",
    "                           batch_size = 300, \n",
    "                           epochs = 75, \n",
    "                           loss_function = \"mse\")"
   ]
  },
  {
   "cell_type": "code",
   "execution_count": 5,
   "metadata": {},
   "outputs": [
    {
     "name": "stdout",
     "output_type": "stream",
     "text": [
      "EPOCH: 1\n",
      "[0.34939598 0.23898849 0.33086986 0.11420894 0.31774213 0.3760723\n",
      " 0.39763334 0.27851854 0.39453805 0.25056834]\n",
      "[0.6 0.9 0.3 0.7 0.2 0.1 0.5 0.2 0.5 0.2]\n",
      "EPOCH: 2\n",
      "[0.85782151 0.96727883 0.74818617 0.79057625 0.68223212 0.83180607\n",
      " 1.0237907  0.75424008 1.01738683 0.79878557]\n",
      "[0.6 0.9 0.3 0.7 0.2 0.1 0.5 0.2 0.5 0.2]\n",
      "EPOCH: 3\n",
      "[0. 0. 0. 0. 0. 0. 0. 0. 0. 0.]\n",
      "[0.6 0.9 0.3 0.7 0.2 0.1 0.5 0.2 0.5 0.2]\n",
      "EPOCH: 4\n",
      "[0. 0. 0. 0. 0. 0. 0. 0. 0. 0.]\n",
      "[0.6 0.9 0.3 0.7 0.2 0.1 0.5 0.2 0.5 0.2]\n",
      "EPOCH: 5\n",
      "[0. 0. 0. 0. 0. 0. 0. 0. 0. 0.]\n",
      "[0.6 0.9 0.3 0.7 0.2 0.1 0.5 0.2 0.5 0.2]\n",
      "EPOCH: 6\n",
      "[0. 0. 0. 0. 0. 0. 0. 0. 0. 0.]\n",
      "[0.6 0.9 0.3 0.7 0.2 0.1 0.5 0.2 0.5 0.2]\n",
      "EPOCH: 7\n",
      "[0. 0. 0. 0. 0. 0. 0. 0. 0. 0.]\n",
      "[0.6 0.9 0.3 0.7 0.2 0.1 0.5 0.2 0.5 0.2]\n",
      "EPOCH: 8\n",
      "[0. 0. 0. 0. 0. 0. 0. 0. 0. 0.]\n",
      "[0.6 0.9 0.3 0.7 0.2 0.1 0.5 0.2 0.5 0.2]\n",
      "EPOCH: 9\n",
      "[0. 0. 0. 0. 0. 0. 0. 0. 0. 0.]\n",
      "[0.6 0.9 0.3 0.7 0.2 0.1 0.5 0.2 0.5 0.2]\n",
      "EPOCH: 10\n",
      "[0. 0. 0. 0. 0. 0. 0. 0. 0. 0.]\n",
      "[0.6 0.9 0.3 0.7 0.2 0.1 0.5 0.2 0.5 0.2]\n",
      "EPOCH: 11\n",
      "[0. 0. 0. 0. 0. 0. 0. 0. 0. 0.]\n",
      "[0.6 0.9 0.3 0.7 0.2 0.1 0.5 0.2 0.5 0.2]\n",
      "EPOCH: 12\n",
      "[0. 0. 0. 0. 0. 0. 0. 0. 0. 0.]\n",
      "[0.6 0.9 0.3 0.7 0.2 0.1 0.5 0.2 0.5 0.2]\n",
      "EPOCH: 13\n",
      "[0. 0. 0. 0. 0. 0. 0. 0. 0. 0.]\n",
      "[0.6 0.9 0.3 0.7 0.2 0.1 0.5 0.2 0.5 0.2]\n",
      "EPOCH: 14\n",
      "[0. 0. 0. 0. 0. 0. 0. 0. 0. 0.]\n",
      "[0.6 0.9 0.3 0.7 0.2 0.1 0.5 0.2 0.5 0.2]\n",
      "EPOCH: 15\n",
      "[0. 0. 0. 0. 0. 0. 0. 0. 0. 0.]\n",
      "[0.6 0.9 0.3 0.7 0.2 0.1 0.5 0.2 0.5 0.2]\n",
      "EPOCH: 16\n",
      "[0. 0. 0. 0. 0. 0. 0. 0. 0. 0.]\n",
      "[0.6 0.9 0.3 0.7 0.2 0.1 0.5 0.2 0.5 0.2]\n",
      "EPOCH: 17\n",
      "[0. 0. 0. 0. 0. 0. 0. 0. 0. 0.]\n",
      "[0.6 0.9 0.3 0.7 0.2 0.1 0.5 0.2 0.5 0.2]\n",
      "EPOCH: 18\n",
      "[0. 0. 0. 0. 0. 0. 0. 0. 0. 0.]\n",
      "[0.6 0.9 0.3 0.7 0.2 0.1 0.5 0.2 0.5 0.2]\n",
      "EPOCH: 19\n",
      "[0. 0. 0. 0. 0. 0. 0. 0. 0. 0.]\n",
      "[0.6 0.9 0.3 0.7 0.2 0.1 0.5 0.2 0.5 0.2]\n",
      "EPOCH: 20\n",
      "[0. 0. 0. 0. 0. 0. 0. 0. 0. 0.]\n",
      "[0.6 0.9 0.3 0.7 0.2 0.1 0.5 0.2 0.5 0.2]\n",
      "EPOCH: 21\n",
      "[0. 0. 0. 0. 0. 0. 0. 0. 0. 0.]\n",
      "[0.6 0.9 0.3 0.7 0.2 0.1 0.5 0.2 0.5 0.2]\n",
      "EPOCH: 22\n",
      "[0. 0. 0. 0. 0. 0. 0. 0. 0. 0.]\n",
      "[0.6 0.9 0.3 0.7 0.2 0.1 0.5 0.2 0.5 0.2]\n",
      "EPOCH: 23\n",
      "[0. 0. 0. 0. 0. 0. 0. 0. 0. 0.]\n",
      "[0.6 0.9 0.3 0.7 0.2 0.1 0.5 0.2 0.5 0.2]\n",
      "EPOCH: 24\n",
      "[0. 0. 0. 0. 0. 0. 0. 0. 0. 0.]\n",
      "[0.6 0.9 0.3 0.7 0.2 0.1 0.5 0.2 0.5 0.2]\n",
      "EPOCH: 25\n",
      "[0. 0. 0. 0. 0. 0. 0. 0. 0. 0.]\n",
      "[0.6 0.9 0.3 0.7 0.2 0.1 0.5 0.2 0.5 0.2]\n",
      "EPOCH: 26\n",
      "[0. 0. 0. 0. 0. 0. 0. 0. 0. 0.]\n",
      "[0.6 0.9 0.3 0.7 0.2 0.1 0.5 0.2 0.5 0.2]\n",
      "EPOCH: 27\n",
      "[0. 0. 0. 0. 0. 0. 0. 0. 0. 0.]\n",
      "[0.6 0.9 0.3 0.7 0.2 0.1 0.5 0.2 0.5 0.2]\n",
      "EPOCH: 28\n",
      "[0. 0. 0. 0. 0. 0. 0. 0. 0. 0.]\n",
      "[0.6 0.9 0.3 0.7 0.2 0.1 0.5 0.2 0.5 0.2]\n",
      "EPOCH: 29\n",
      "[0. 0. 0. 0. 0. 0. 0. 0. 0. 0.]\n",
      "[0.6 0.9 0.3 0.7 0.2 0.1 0.5 0.2 0.5 0.2]\n",
      "EPOCH: 30\n",
      "[0. 0. 0. 0. 0. 0. 0. 0. 0. 0.]\n",
      "[0.6 0.9 0.3 0.7 0.2 0.1 0.5 0.2 0.5 0.2]\n",
      "EPOCH: 31\n",
      "[0. 0. 0. 0. 0. 0. 0. 0. 0. 0.]\n",
      "[0.6 0.9 0.3 0.7 0.2 0.1 0.5 0.2 0.5 0.2]\n",
      "EPOCH: 32\n",
      "[0. 0. 0. 0. 0. 0. 0. 0. 0. 0.]\n",
      "[0.6 0.9 0.3 0.7 0.2 0.1 0.5 0.2 0.5 0.2]\n",
      "EPOCH: 33\n",
      "[0. 0. 0. 0. 0. 0. 0. 0. 0. 0.]\n",
      "[0.6 0.9 0.3 0.7 0.2 0.1 0.5 0.2 0.5 0.2]\n",
      "EPOCH: 34\n",
      "[0. 0. 0. 0. 0. 0. 0. 0. 0. 0.]\n",
      "[0.6 0.9 0.3 0.7 0.2 0.1 0.5 0.2 0.5 0.2]\n",
      "EPOCH: 35\n",
      "[0. 0. 0. 0. 0. 0. 0. 0. 0. 0.]\n",
      "[0.6 0.9 0.3 0.7 0.2 0.1 0.5 0.2 0.5 0.2]\n",
      "EPOCH: 36\n",
      "[0. 0. 0. 0. 0. 0. 0. 0. 0. 0.]\n",
      "[0.6 0.9 0.3 0.7 0.2 0.1 0.5 0.2 0.5 0.2]\n",
      "EPOCH: 37\n",
      "[0. 0. 0. 0. 0. 0. 0. 0. 0. 0.]\n",
      "[0.6 0.9 0.3 0.7 0.2 0.1 0.5 0.2 0.5 0.2]\n",
      "EPOCH: 38\n",
      "[0. 0. 0. 0. 0. 0. 0. 0. 0. 0.]\n",
      "[0.6 0.9 0.3 0.7 0.2 0.1 0.5 0.2 0.5 0.2]\n",
      "EPOCH: 39\n",
      "[0. 0. 0. 0. 0. 0. 0. 0. 0. 0.]\n",
      "[0.6 0.9 0.3 0.7 0.2 0.1 0.5 0.2 0.5 0.2]\n",
      "EPOCH: 40\n",
      "[0. 0. 0. 0. 0. 0. 0. 0. 0. 0.]\n",
      "[0.6 0.9 0.3 0.7 0.2 0.1 0.5 0.2 0.5 0.2]\n",
      "EPOCH: 41\n",
      "[0. 0. 0. 0. 0. 0. 0. 0. 0. 0.]\n",
      "[0.6 0.9 0.3 0.7 0.2 0.1 0.5 0.2 0.5 0.2]\n",
      "EPOCH: 42\n",
      "[0. 0. 0. 0. 0. 0. 0. 0. 0. 0.]\n",
      "[0.6 0.9 0.3 0.7 0.2 0.1 0.5 0.2 0.5 0.2]\n",
      "EPOCH: 43\n",
      "[0. 0. 0. 0. 0. 0. 0. 0. 0. 0.]\n",
      "[0.6 0.9 0.3 0.7 0.2 0.1 0.5 0.2 0.5 0.2]\n",
      "EPOCH: 44\n",
      "[0. 0. 0. 0. 0. 0. 0. 0. 0. 0.]\n",
      "[0.6 0.9 0.3 0.7 0.2 0.1 0.5 0.2 0.5 0.2]\n",
      "EPOCH: 45\n",
      "[0. 0. 0. 0. 0. 0. 0. 0. 0. 0.]\n",
      "[0.6 0.9 0.3 0.7 0.2 0.1 0.5 0.2 0.5 0.2]\n",
      "EPOCH: 46\n",
      "[0. 0. 0. 0. 0. 0. 0. 0. 0. 0.]\n",
      "[0.6 0.9 0.3 0.7 0.2 0.1 0.5 0.2 0.5 0.2]\n",
      "EPOCH: 47\n",
      "[0. 0. 0. 0. 0. 0. 0. 0. 0. 0.]\n",
      "[0.6 0.9 0.3 0.7 0.2 0.1 0.5 0.2 0.5 0.2]\n",
      "EPOCH: 48\n",
      "[0. 0. 0. 0. 0. 0. 0. 0. 0. 0.]\n",
      "[0.6 0.9 0.3 0.7 0.2 0.1 0.5 0.2 0.5 0.2]\n",
      "EPOCH: 49\n",
      "[0. 0. 0. 0. 0. 0. 0. 0. 0. 0.]\n",
      "[0.6 0.9 0.3 0.7 0.2 0.1 0.5 0.2 0.5 0.2]\n",
      "EPOCH: 50\n",
      "[0. 0. 0. 0. 0. 0. 0. 0. 0. 0.]\n",
      "[0.6 0.9 0.3 0.7 0.2 0.1 0.5 0.2 0.5 0.2]\n",
      "EPOCH: 51\n",
      "[0. 0. 0. 0. 0. 0. 0. 0. 0. 0.]\n",
      "[0.6 0.9 0.3 0.7 0.2 0.1 0.5 0.2 0.5 0.2]\n",
      "EPOCH: 52\n",
      "[0. 0. 0. 0. 0. 0. 0. 0. 0. 0.]\n",
      "[0.6 0.9 0.3 0.7 0.2 0.1 0.5 0.2 0.5 0.2]\n",
      "EPOCH: 53\n",
      "[0. 0. 0. 0. 0. 0. 0. 0. 0. 0.]\n",
      "[0.6 0.9 0.3 0.7 0.2 0.1 0.5 0.2 0.5 0.2]\n",
      "EPOCH: 54\n",
      "[0. 0. 0. 0. 0. 0. 0. 0. 0. 0.]\n",
      "[0.6 0.9 0.3 0.7 0.2 0.1 0.5 0.2 0.5 0.2]\n",
      "EPOCH: 55\n",
      "[0. 0. 0. 0. 0. 0. 0. 0. 0. 0.]\n",
      "[0.6 0.9 0.3 0.7 0.2 0.1 0.5 0.2 0.5 0.2]\n",
      "EPOCH: 56\n",
      "[0. 0. 0. 0. 0. 0. 0. 0. 0. 0.]\n",
      "[0.6 0.9 0.3 0.7 0.2 0.1 0.5 0.2 0.5 0.2]\n",
      "EPOCH: 57\n",
      "[0. 0. 0. 0. 0. 0. 0. 0. 0. 0.]\n",
      "[0.6 0.9 0.3 0.7 0.2 0.1 0.5 0.2 0.5 0.2]\n",
      "EPOCH: 58\n",
      "[0. 0. 0. 0. 0. 0. 0. 0. 0. 0.]\n",
      "[0.6 0.9 0.3 0.7 0.2 0.1 0.5 0.2 0.5 0.2]\n",
      "EPOCH: 59\n",
      "[0. 0. 0. 0. 0. 0. 0. 0. 0. 0.]\n",
      "[0.6 0.9 0.3 0.7 0.2 0.1 0.5 0.2 0.5 0.2]\n",
      "EPOCH: 60\n",
      "[0. 0. 0. 0. 0. 0. 0. 0. 0. 0.]\n",
      "[0.6 0.9 0.3 0.7 0.2 0.1 0.5 0.2 0.5 0.2]\n",
      "EPOCH: 61\n",
      "[0. 0. 0. 0. 0. 0. 0. 0. 0. 0.]\n",
      "[0.6 0.9 0.3 0.7 0.2 0.1 0.5 0.2 0.5 0.2]\n",
      "EPOCH: 62\n",
      "[0. 0. 0. 0. 0. 0. 0. 0. 0. 0.]\n",
      "[0.6 0.9 0.3 0.7 0.2 0.1 0.5 0.2 0.5 0.2]\n",
      "EPOCH: 63\n",
      "[0. 0. 0. 0. 0. 0. 0. 0. 0. 0.]\n",
      "[0.6 0.9 0.3 0.7 0.2 0.1 0.5 0.2 0.5 0.2]\n",
      "EPOCH: 64\n",
      "[0. 0. 0. 0. 0. 0. 0. 0. 0. 0.]\n",
      "[0.6 0.9 0.3 0.7 0.2 0.1 0.5 0.2 0.5 0.2]\n",
      "EPOCH: 65\n",
      "[0. 0. 0. 0. 0. 0. 0. 0. 0. 0.]\n",
      "[0.6 0.9 0.3 0.7 0.2 0.1 0.5 0.2 0.5 0.2]\n",
      "EPOCH: 66\n",
      "[0. 0. 0. 0. 0. 0. 0. 0. 0. 0.]\n",
      "[0.6 0.9 0.3 0.7 0.2 0.1 0.5 0.2 0.5 0.2]\n",
      "EPOCH: 67\n",
      "[0. 0. 0. 0. 0. 0. 0. 0. 0. 0.]\n",
      "[0.6 0.9 0.3 0.7 0.2 0.1 0.5 0.2 0.5 0.2]\n",
      "EPOCH: 68\n",
      "[0. 0. 0. 0. 0. 0. 0. 0. 0. 0.]\n",
      "[0.6 0.9 0.3 0.7 0.2 0.1 0.5 0.2 0.5 0.2]\n",
      "EPOCH: 69\n",
      "[0. 0. 0. 0. 0. 0. 0. 0. 0. 0.]\n",
      "[0.6 0.9 0.3 0.7 0.2 0.1 0.5 0.2 0.5 0.2]\n",
      "EPOCH: 70\n",
      "[0. 0. 0. 0. 0. 0. 0. 0. 0. 0.]\n",
      "[0.6 0.9 0.3 0.7 0.2 0.1 0.5 0.2 0.5 0.2]\n",
      "EPOCH: 71\n",
      "[0. 0. 0. 0. 0. 0. 0. 0. 0. 0.]\n",
      "[0.6 0.9 0.3 0.7 0.2 0.1 0.5 0.2 0.5 0.2]\n",
      "EPOCH: 72\n",
      "[0. 0. 0. 0. 0. 0. 0. 0. 0. 0.]\n",
      "[0.6 0.9 0.3 0.7 0.2 0.1 0.5 0.2 0.5 0.2]\n",
      "EPOCH: 73\n",
      "[0. 0. 0. 0. 0. 0. 0. 0. 0. 0.]\n",
      "[0.6 0.9 0.3 0.7 0.2 0.1 0.5 0.2 0.5 0.2]\n",
      "EPOCH: 74\n",
      "[0. 0. 0. 0. 0. 0. 0. 0. 0. 0.]\n",
      "[0.6 0.9 0.3 0.7 0.2 0.1 0.5 0.2 0.5 0.2]\n",
      "EPOCH: 75\n",
      "[0. 0. 0. 0. 0. 0. 0. 0. 0. 0.]\n",
      "[0.6 0.9 0.3 0.7 0.2 0.1 0.5 0.2 0.5 0.2]\n"
     ]
    }
   ],
   "source": [
    "# because the last layer of the network is a sigmoid function the outputs are between 0 and 1\n",
    "# so I multiply the y arrays by 0.1 in order to match\n",
    "(train_auto_loss, val_auto_loss) = nn_auto.fit(X_train.T, y_train * 0.1, X_test.T, y_test * 0.1)"
   ]
  },
  {
   "cell_type": "code",
   "execution_count": 6,
   "metadata": {},
   "outputs": [
    {
     "data": {
      "image/png": "[encoded data removed]",
      "text/plain": [
       "<Figure size 432x288 with 1 Axes>"
      ]
     },
     "metadata": {
      "needs_background": "light"
     },
     "output_type": "display_data"
    }
   ],
   "source": [
    "# plot losses\n",
    "plt.figure()\n",
    "plt.plot(train_auto_loss)\n",
    "plt.title(\"Per Epoch Loss for Training Set\")\n",
    "plt.xlabel('Epoch')\n",
    "plt.ylabel('Loss')\n",
    "plt.show()"
   ]
  },
  {
   "cell_type": "code",
   "execution_count": 7,
   "metadata": {},
   "outputs": [
    {
     "data": {
      "image/png": "[encoded data removed]",
      "text/plain": [
       "<Figure size 432x288 with 1 Axes>"
      ]
     },
     "metadata": {
      "needs_background": "light"
     },
     "output_type": "display_data"
    }
   ],
   "source": [
    "plt.figure()\n",
    "plt.plot(val_auto_loss)\n",
    "plt.title(\"Per Epoch Loss for Test Set\")\n",
    "plt.xlabel('Epoch')\n",
    "plt.ylabel('Loss')\n",
    "plt.show()"
   ]
  },
  {
   "cell_type": "code",
   "execution_count": 8,
   "metadata": {},
   "outputs": [
    {
     "name": "stdout",
     "output_type": "stream",
     "text": [
      "[0. 0. 0. 0. 0. 0. 0. 0. 0. 0.]\n",
      "[0. 0. 0. 0. 0. 0. 0. 0. 0. 0.]\n",
      "[6 9 3 7 2 1 5 2 5 2]\n",
      "CONFUSION MATRIX\n",
      "[[55  0  0  0  0  0  0  0  0  0]\n",
      " [55  0  0  0  0  0  0  0  0  0]\n",
      " [52  0  0  0  0  0  0  0  0  0]\n",
      " [56  0  0  0  0  0  0  0  0  0]\n",
      " [64  0  0  0  0  0  0  0  0  0]\n",
      " [73  0  0  0  0  0  0  0  0  0]\n",
      " [57  0  0  0  0  0  0  0  0  0]\n",
      " [62  0  0  0  0  0  0  0  0  0]\n",
      " [52  0  0  0  0  0  0  0  0  0]\n",
      " [68  0  0  0  0  0  0  0  0  0]]\n",
      "CLASSFICATION REPORT\n",
      "              precision    recall  f1-score   support\n",
      "\n",
      "           0       0.09      1.00      0.17        55\n",
      "           1       0.00      0.00      0.00        55\n",
      "           2       0.00      0.00      0.00        52\n",
      "           3       0.00      0.00      0.00        56\n",
      "           4       0.00      0.00      0.00        64\n",
      "           5       0.00      0.00      0.00        73\n",
      "           6       0.00      0.00      0.00        57\n",
      "           7       0.00      0.00      0.00        62\n",
      "           8       0.00      0.00      0.00        52\n",
      "           9       0.00      0.00      0.00        68\n",
      "\n",
      "    accuracy                           0.09       594\n",
      "   macro avg       0.01      0.10      0.02       594\n",
      "weighted avg       0.01      0.09      0.02       594\n",
      "\n"
     ]
    },
    {
     "name": "stderr",
     "output_type": "stream",
     "text": [
      "/Library/anaconda3/lib/python3.8/site-packages/sklearn/metrics/_classification.py:1245: UndefinedMetricWarning: Precision and F-score are ill-defined and being set to 0.0 in labels with no predicted samples. Use `zero_division` parameter to control this behavior.\n",
      "  _warn_prf(average, modifier, msg_start, len(result))\n",
      "/Library/anaconda3/lib/python3.8/site-packages/sklearn/metrics/_classification.py:1245: UndefinedMetricWarning: Precision and F-score are ill-defined and being set to 0.0 in labels with no predicted samples. Use `zero_division` parameter to control this behavior.\n",
      "  _warn_prf(average, modifier, msg_start, len(result))\n",
      "/Library/anaconda3/lib/python3.8/site-packages/sklearn/metrics/_classification.py:1245: UndefinedMetricWarning: Precision and F-score are ill-defined and being set to 0.0 in labels with no predicted samples. Use `zero_division` parameter to control this behavior.\n",
      "  _warn_prf(average, modifier, msg_start, len(result))\n"
     ]
    }
   ],
   "source": [
    "# Evaluate\n",
    "model_prob = nn_auto.predict(X_test.T)\n",
    "model_pred = np.floor(model_prob * 10)\n",
    "print(model_prob[0:10])\n",
    "print(model_pred[0:10])\n",
    "print(y_test[0:10])\n",
    "print('CONFUSION MATRIX')\n",
    "print(confusion_matrix(y_test, model_pred))\n",
    "print('CLASSFICATION REPORT')\n",
    "print(classification_report(y_test, model_pred))"
   ]
  },
  {
   "cell_type": "code",
   "execution_count": 9,
   "metadata": {},
   "outputs": [
    {
     "name": "stdout",
     "output_type": "stream",
     "text": [
      "RECONSTRUCTION ERROR (MSE)\n",
      "59.390210792954726\n",
      "PREDICTION ERROR (MSE)\n",
      "29.531986531986533\n",
      "On average, the predicted digit is within 5.43 of the actual digit\n"
     ]
    }
   ],
   "source": [
    "# Reconstruction Error\n",
    "(y_hat,cache) = nn_auto.forward(X_test.T)\n",
    "# the reconstructed images are stored in Ag -- the output of the second-to-last layer\n",
    "reconstruction = cache['A4']\n",
    "print(\"RECONSTRUCTION ERROR (MSE)\")\n",
    "reconstruction_error = nn_auto._mean_squared_error(X_test.T, reconstruction)\n",
    "print(reconstruction_error)\n",
    "print(\"PREDICTION ERROR (MSE)\")\n",
    "prediction_error = nn_auto._mean_squared_error(y_test, model_pred)\n",
    "print(prediction_error)\n",
    "print(\"On average, the predicted digit is within \" + str(round(np.sqrt(prediction_error), 2)) + \" of the actual digit\")"
   ]
  }
 ],
 "metadata": {
  "kernelspec": {
   "display_name": "Python 3",
   "language": "python",
   "name": "python3"
  },
  "language_info": {
   "codemirror_mode": {
    "name": "ipython",
    "version": 3
   },
   "file_extension": ".py",
   "mimetype": "text/x-python",
   "name": "python",
   "nbconvert_exporter": "python",
   "pygments_lexer": "ipython3",
   "version": "3.8.8"
  }
 },
 "nbformat": 4,
 "nbformat_minor": 2
}
