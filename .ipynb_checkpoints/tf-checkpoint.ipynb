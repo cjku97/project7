{
 "cells": [
  {
   "cell_type": "markdown",
   "metadata": {},
   "source": [
    "This jupyter notebook runs a neural network that learns whether a given 17 nucleotide sequence is a binding site for the transcription factor Rap1. It does so pretty well."
   ]
  },
  {
   "cell_type": "code",
   "execution_count": 1,
   "metadata": {},
   "outputs": [],
   "source": [
    "import numpy as np\n",
    "import pandas as pd\n",
    "import matplotlib.pyplot as plt\n",
    "from nn import (io, nn, preprocess)\n",
    "from sklearn.datasets import load_digits\n",
    "from sklearn.model_selection import train_test_split\n",
    "from sklearn.preprocessing import StandardScaler\n",
    "from sklearn.metrics import confusion_matrix\n",
    "from sklearn.metrics import classification_report\n",
    "from sklearn.metrics import roc_auc_score\n",
    "from sklearn.metrics import roc_curve"
   ]
  },
  {
   "cell_type": "code",
   "execution_count": 2,
   "metadata": {},
   "outputs": [],
   "source": [
    "positives = io.read_text_file(\"data/rap1-lieb-positives.txt\")\n",
    "negatives = io.read_fasta_file(\"data/yeast-upstream-1k-negative.fa\")"
   ]
  },
  {
   "cell_type": "markdown",
   "metadata": {},
   "source": [
    "Because the negative sequences are longer than the positive sequences, I wrote a \n",
    "function in preprocess.py, trim_seqs, that randomly selects a consecutive sequence\n",
    "of 17 nucleotides from each negative sequence."
   ]
  },
  {
   "cell_type": "code",
   "execution_count": 3,
   "metadata": {},
   "outputs": [],
   "source": [
    "# trim negative sequences\n",
    "trim_negatives = preprocess.trim_seqs(negatives, len(positives[0]))"
   ]
  },
  {
   "cell_type": "markdown",
   "metadata": {},
   "source": [
    "Because there are more negative than positive examples in this dataset, I use an \n",
    "upsampling scheme to increase the number of positive examples to match the number\n",
    "of negative examples. In preprocess.py, the sample_seqs function samples from \n",
    "the positive (minority class) with replacement until there are the same number as the \n",
    "negative (majority class) samples. "
   ]
  },
  {
   "cell_type": "code",
   "execution_count": 4,
   "metadata": {},
   "outputs": [
    {
     "name": "stdout",
     "output_type": "stream",
     "text": [
      "(3300,)\n",
      "(3300,)\n",
      "number of samples in minority class: 137\n",
      "number of samples in majority class: 3163\n",
      "(6326,)\n",
      "(6326,)\n",
      "(5060, 68)\n",
      "(1266, 68)\n"
     ]
    }
   ],
   "source": [
    "# generate training set\n",
    "all_seqs = np.asarray(positives + trim_negatives)\n",
    "print(all_seqs.shape)\n",
    "all_labels = np.asarray([True] * len(positives) + [False] * len(trim_negatives))\n",
    "print(all_labels.shape)\n",
    "(upsampled_seqs, upsampled_labels) = preprocess.sample_seqs(all_seqs, all_labels)\n",
    "print(upsampled_seqs.shape)\n",
    "print(upsampled_labels.shape)\n",
    "X_train, X_test, y_train, y_test = train_test_split(upsampled_seqs, upsampled_labels,test_size=0.2, random_state=42)\n",
    "y_train = y_train * 1\n",
    "y_test = y_test * 1\n",
    "\n",
    "# one hot encode sequences\n",
    "X_train_encode = np.asarray(preprocess.one_hot_encode_seqs(X_train))\n",
    "X_test_encode = np.asarray(preprocess.one_hot_encode_seqs(X_test))\n",
    "print(X_train_encode.shape)\n",
    "print(X_test_encode.shape)"
   ]
  },
  {
   "cell_type": "code",
   "execution_count": 5,
   "metadata": {},
   "outputs": [],
   "source": [
    "# train neural network\n",
    "test_arch = [{'input_dim': 68, 'output_dim': 17, 'activation': 'sigmoid'}, {'input_dim': 17, 'output_dim': 68, 'activation': 'sigmoid'}, {'input_dim': 68, 'output_dim': 1, 'activation': 'sigmoid'}]"
   ]
  },
  {
   "cell_type": "markdown",
   "metadata": {},
   "source": [
    "Selection of hyperparamaters:\n",
    "I selected the Binary Cross Entropy loss function because the network is using logistic\n",
    "regression to separate the input into two classes: Rap1 binding site or non-binding site.\n",
    "The other hyperparameters were selected through trial and error until I got acceptable\n",
    "results."
   ]
  },
  {
   "cell_type": "code",
   "execution_count": 6,
   "metadata": {},
   "outputs": [
    {
     "name": "stdout",
     "output_type": "stream",
     "text": [
      "EPOCH: 1\n",
      "[0.08614596 0.08688219 0.08519172 0.08588441 0.08588054 0.08620376\n",
      " 0.08685174 0.08602421 0.08620886 0.08564526]\n",
      "[1 1 0 1 1 1 0 1 1 1]\n",
      "EPOCH: 2\n",
      "[0.99982067 0.99982296 0.99982614 0.99982376 0.99982128 0.99982111\n",
      " 0.9998268  0.99982441 0.99981888 0.99982109]\n",
      "[1 1 0 1 1 1 0 1 1 1]\n",
      "EPOCH: 3\n",
      "[0.01126701 0.01107626 0.01051276 0.01116412 0.0109891  0.0111743\n",
      " 0.01081428 0.01091671 0.01085875 0.01115226]\n",
      "[1 1 0 1 1 1 0 1 1 1]\n",
      "EPOCH: 4\n",
      "[0.98988819 0.99033355 0.99078913 0.98998088 0.99021811 0.99001845\n",
      " 0.99075291 0.99034986 0.99042767 0.98993359]\n",
      "[1 1 0 1 1 1 0 1 1 1]\n",
      "EPOCH: 5\n",
      "[0.03776126 0.03644599 0.03340919 0.03747887 0.03638255 0.03714505\n",
      " 0.03479749 0.03611361 0.03518598 0.03735726]\n",
      "[1 1 0 1 1 1 0 1 1 1]\n",
      "EPOCH: 6\n",
      "[0.96382676 0.96587291 0.96960615 0.96413204 0.96544328 0.96460551\n",
      " 0.96846368 0.96578742 0.96686176 0.96414423]\n",
      "[1 1 0 1 1 1 0 1 1 1]\n",
      "EPOCH: 7\n",
      "[0.12507727 0.12098813 0.10863208 0.12447827 0.12116006 0.1230072\n",
      " 0.11415325 0.12076046 0.11656076 0.12396994]\n",
      "[1 1 0 1 1 1 0 1 1 1]\n",
      "EPOCH: 8\n",
      "[0.82872467 0.83423573 0.84580511 0.82939829 0.8328818  0.83078635\n",
      " 0.84253102 0.83336949 0.83733901 0.82936953]\n",
      "[1 1 0 1 1 1 0 1 1 1]\n",
      "EPOCH: 9\n",
      "[0.19756485 0.19209597 0.17258407 0.19663406 0.19255021 0.19462958\n",
      " 0.18135938 0.19219719 0.18565698 0.19628128]\n",
      "[1 1 0 1 1 1 0 1 1 1]\n",
      "EPOCH: 10\n",
      "[0.65766059 0.66140847 0.66646899 0.65800112 0.66006253 0.65864988\n",
      " 0.6666721  0.66034969 0.66243937 0.65781595]\n",
      "[1 1 0 1 1 1 0 1 1 1]\n",
      "EPOCH: 11\n",
      "[0.35555246 0.35153152 0.33088932 0.35462019 0.35149641 0.35276127\n",
      " 0.34145754 0.35132156 0.34529161 0.35428254]\n",
      "[1 1 0 1 1 1 0 1 1 1]\n",
      "EPOCH: 12\n",
      "[0.55529726 0.55613289 0.54987936 0.5551027  0.55518534 0.55468847\n",
      " 0.55517612 0.55530571 0.55401678 0.55483446]\n",
      "[1 1 0 1 1 1 0 1 1 1]\n",
      "EPOCH: 13\n",
      "[0.45175209 0.44962051 0.43233113 0.45105784 0.44912737 0.4496305\n",
      " 0.44232603 0.44910876 0.44447053 0.45072671]\n",
      "[1 1 0 1 1 1 0 1 1 1]\n",
      "EPOCH: 14\n",
      "[0.49299228 0.49172972 0.47632138 0.49240232 0.49103307 0.49115778\n",
      " 0.48590082 0.49107008 0.48717109 0.49209109]\n",
      "[1 1 0 1 1 1 0 1 1 1]\n",
      "EPOCH: 15\n",
      "[0.49835861 0.49699836 0.48027299 0.49774788 0.49628141 0.49636318\n",
      " 0.49066254 0.49634226 0.49213111 0.49738293]\n",
      "[1 1 0 1 1 1 0 1 1 1]\n",
      "EPOCH: 16\n",
      "[0.48743555 0.48556964 0.46580901 0.4867382  0.48487887 0.48506664\n",
      " 0.47776184 0.48495181 0.47996557 0.48630398]\n",
      "[1 1 0 1 1 1 0 1 1 1]\n",
      "EPOCH: 17\n",
      "[0.47041918 0.46788946 0.44435946 0.46959898 0.46720803 0.46755887\n",
      " 0.45822012 0.46733573 0.46138778 0.46907917]\n",
      "[1 1 0 1 1 1 0 1 1 1]\n",
      "EPOCH: 18\n",
      "[0.48521852 0.48284563 0.45829383 0.48434909 0.48203069 0.4822689\n",
      " 0.47296411 0.48219239 0.47615524 0.48381687]\n",
      "[1 1 0 1 1 1 0 1 1 1]\n",
      "EPOCH: 19\n",
      "[0.41390277 0.4095378  0.37572031 0.4128006  0.40893858 0.40977318\n",
      " 0.39465691 0.40915133 0.40059725 0.41207436]\n",
      "[1 1 0 1 1 1 0 1 1 1]\n",
      "EPOCH: 20\n",
      "[0.54240391 0.54102022 0.51719962 0.54167645 0.53997632 0.53975018\n",
      " 0.53236024 0.54014305 0.5347908  0.54114788]\n",
      "[1 1 0 1 1 1 0 1 1 1]\n",
      "EPOCH: 21\n",
      "[0.42810947 0.42347067 0.38414158 0.4268823  0.42273206 0.42346405\n",
      " 0.406482   0.4229656  0.41368828 0.42600707]\n",
      "[1 1 0 1 1 1 0 1 1 1]\n",
      "EPOCH: 22\n",
      "[0.52239301 0.51994193 0.48704625 0.5214794  0.51876197 0.51876251\n",
      " 0.50719495 0.51915681 0.5118228  0.5206788 ]\n",
      "[1 1 0 1 1 1 0 1 1 1]\n",
      "EPOCH: 23\n",
      "[0.45161915 0.44709844 0.40198328 0.45040923 0.44589891 0.44653008\n",
      " 0.42810248 0.44651905 0.43628119 0.44927892]\n",
      "[1 1 0 1 1 1 0 1 1 1]\n",
      "EPOCH: 24\n",
      "[0.54453513 0.54210111 0.50403513 0.54355087 0.54059045 0.54041751\n",
      " 0.5276552  0.54119562 0.53312944 0.54256431]\n",
      "[1 1 0 1 1 1 0 1 1 1]\n",
      "EPOCH: 25\n",
      "[0.4714737  0.46687475 0.4143694  0.47010164 0.46522961 0.46568998\n",
      " 0.44527767 0.46612947 0.45476886 0.46872844]\n",
      "[1 1 0 1 1 1 0 1 1 1]\n",
      "EPOCH: 26\n",
      "[0.55846622 0.555795   0.51005857 0.55734204 0.55403052 0.55376213\n",
      " 0.53872414 0.55479937 0.54559466 0.55617927]\n",
      "[1 1 0 1 1 1 0 1 1 1]\n",
      "EPOCH: 27\n",
      "[0.5293388  0.52551871 0.46943735 0.52799451 0.52362616 0.52356738\n",
      " 0.50389749 0.5245751  0.51338864 0.52657852]\n",
      "[1 1 0 1 1 1 0 1 1 1]\n",
      "EPOCH: 28\n",
      "[0.46304392 0.45730738 0.38559048 0.46143548 0.45514336 0.45559091\n",
      " 0.42802094 0.45656157 0.44200939 0.45952065]\n",
      "[1 1 0 1 1 1 0 1 1 1]\n",
      "EPOCH: 29\n",
      "[0.54229682 0.53820377 0.46971932 0.54090374 0.53582167 0.53562638\n",
      " 0.51205425 0.53717987 0.52409888 0.53914935]\n",
      "[1 1 0 1 1 1 0 1 1 1]\n",
      "EPOCH: 30\n",
      "[0.47517815 0.46899642 0.38221362 0.47347339 0.46633254 0.4665834\n",
      " 0.43415781 0.46822381 0.45136413 0.47108442]\n",
      "[1 1 0 1 1 1 0 1 1 1]\n",
      "EPOCH: 31\n",
      "[0.48688756 0.48061578 0.38575664 0.48508623 0.4773918  0.47759086\n",
      " 0.44292933 0.47968525 0.46179755 0.48237938]\n",
      "[1 1 0 1 1 1 0 1 1 1]\n",
      "EPOCH: 32\n",
      "[0.50476783 0.49864287 0.39562378 0.50301288 0.49499908 0.49501304\n",
      " 0.45847401 0.49777313 0.47878213 0.50005591]\n",
      "[1 1 0 1 1 1 0 1 1 1]\n",
      "EPOCH: 33\n",
      "[0.47739163 0.47006183 0.352118   0.47526979 0.46600411 0.46606594\n",
      " 0.42352789 0.4691909  0.44775139 0.47188715]\n",
      "[1 1 0 1 1 1 0 1 1 1]\n",
      "EPOCH: 34\n",
      "[0.56338223 0.55777348 0.43962782 0.56139059 0.5534785  0.55281608\n",
      " 0.51414695 0.55653662 0.53680442 0.5581605 ]\n",
      "[1 1 0 1 1 1 0 1 1 1]\n",
      "EPOCH: 35\n",
      "[0.49885147 0.49120269 0.34776613 0.49657313 0.48590924 0.48556182\n",
      " 0.43596506 0.48992663 0.46555563 0.49223134]\n",
      "[1 1 0 1 1 1 0 1 1 1]\n",
      "EPOCH: 36\n",
      "[0.56626752 0.55964652 0.4092282  0.56401579 0.55433232 0.55344007\n",
      " 0.50532002 0.55805119 0.5346213  0.55988067]\n",
      "[1 1 0 1 1 1 0 1 1 1]\n",
      "EPOCH: 37\n",
      "[0.57461998 0.56754633 0.39923147 0.5721769  0.56173232 0.56078352\n",
      " 0.50767115 0.56592156 0.54052662 0.56767206]\n",
      "[1 1 0 1 1 1 0 1 1 1]\n",
      "EPOCH: 38\n",
      "[0.59390157 0.58718941 0.4026843  0.59167396 0.58049554 0.57941677\n",
      " 0.52232155 0.58540253 0.55816867 0.58662794]\n",
      "[1 1 0 1 1 1 0 1 1 1]\n",
      "EPOCH: 39\n",
      "[0.47552549 0.46538255 0.24794721 0.47252594 0.45642963 0.45592835\n",
      " 0.38004413 0.46340443 0.42785968 0.4653741 ]\n",
      "[1 1 0 1 1 1 0 1 1 1]\n",
      "EPOCH: 40\n",
      "[0.61455075 0.60729674 0.37618573 0.61198049 0.59861193 0.5971192\n",
      " 0.52795292 0.60508151 0.57309249 0.6052909 ]\n",
      "[1 1 0 1 1 1 0 1 1 1]\n",
      "EPOCH: 41\n",
      "[0.47831689 0.4672583  0.20392658 0.47502453 0.4553038  0.45452685\n",
      " 0.36210988 0.46492379 0.42272599 0.46589264]\n",
      "[1 1 0 1 1 1 0 1 1 1]\n",
      "EPOCH: 42\n",
      "[0.68374981 0.6772277  0.39901836 0.68092478 0.66750963 0.66548629\n",
      " 0.58856987 0.67433994 0.64119776 0.67425652]\n",
      "[1 1 0 1 1 1 0 1 1 1]\n",
      "EPOCH: 43\n",
      "[0.44768709 0.4345597  0.13225363 0.44332871 0.41973525 0.4182691\n",
      " 0.30335838 0.43077905 0.38093493 0.43239052]\n",
      "[1 1 0 1 1 1 0 1 1 1]\n",
      "EPOCH: 44\n",
      "[0.7114537  0.70465299 0.35146295 0.70881487 0.69287952 0.69021074\n",
      " 0.59502361 0.70171173 0.66352157 0.7002744 ]\n",
      "[1 1 0 1 1 1 0 1 1 1]\n",
      "EPOCH: 45\n",
      "[0.51853737 0.50598965 0.1258952  0.51499589 0.48666108 0.48389149\n",
      " 0.34463114 0.50119662 0.44262025 0.50052566]\n",
      "[1 1 0 1 1 1 0 1 1 1]\n",
      "EPOCH: 46\n",
      "[0.71045209 0.70255094 0.25072672 0.70744998 0.68662241 0.68288248\n",
      " 0.55706556 0.69809876 0.65037809 0.69638006]\n",
      "[1 1 0 1 1 1 0 1 1 1]\n",
      "EPOCH: 47\n",
      "[0.61121077 0.60022529 0.12399467 0.60659787 0.57646026 0.5722285\n",
      " 0.40715824 0.59385105 0.5279352  0.59059534]\n",
      "[1 1 0 1 1 1 0 1 1 1]\n",
      "EPOCH: 48\n",
      "[0.71236319 0.70423095 0.16313855 0.70888311 0.68189308 0.67758002\n",
      " 0.51372833 0.6983335  0.6368421  0.69387223]\n",
      "[1 1 0 1 1 1 0 1 1 1]\n",
      "EPOCH: 49\n",
      "[0.68529502 0.67583015 0.10852    0.68188699 0.64792937 0.6431912\n",
      " 0.44907678 0.66945491 0.59567275 0.6628524 ]\n",
      "[1 1 0 1 1 1 0 1 1 1]\n",
      "EPOCH: 50\n",
      "[0.76025069 0.75255563 0.12605763 0.75717705 0.72770367 0.72274828\n",
      " 0.52897063 0.74642681 0.67904226 0.74038624]\n",
      "[1 1 0 1 1 1 0 1 1 1]\n"
     ]
    }
   ],
   "source": [
    "test_nn = nn.NeuralNetwork(nn_arch = test_arch, lr = 0.005, seed = 29, batch_size = 300, epochs = 50, loss_function = \"bce\")\n",
    "(test_train_loss, test_val_loss) = test_nn.fit(X_train_encode.T, y_train, X_test_encode.T, y_test)"
   ]
  },
  {
   "cell_type": "code",
   "execution_count": 7,
   "metadata": {},
   "outputs": [
    {
     "data": {
      "image/png": "[encoded data removed]",
      "text/plain": [
       "<Figure size 432x288 with 1 Axes>"
      ]
     },
     "metadata": {
      "needs_background": "light"
     },
     "output_type": "display_data"
    }
   ],
   "source": [
    "# plot losses\n",
    "plt.figure()\n",
    "plt.plot(test_train_loss)\n",
    "plt.title(\"Per Epoch Loss for Training Set\")\n",
    "plt.xlabel('Epoch')\n",
    "plt.ylabel('Loss')\n",
    "plt.show()"
   ]
  },
  {
   "cell_type": "code",
   "execution_count": 8,
   "metadata": {},
   "outputs": [
    {
     "data": {
      "image/png": "[encoded data removed]",
      "text/plain": [
       "<Figure size 432x288 with 1 Axes>"
      ]
     },
     "metadata": {
      "needs_background": "light"
     },
     "output_type": "display_data"
    }
   ],
   "source": [
    "plt.figure()\n",
    "plt.plot(test_val_loss)\n",
    "plt.title(\"Per Epoch Loss for Test Set\")\n",
    "plt.xlabel('Epoch')\n",
    "plt.ylabel('Loss')\n",
    "plt.show()"
   ]
  },
  {
   "cell_type": "code",
   "execution_count": 9,
   "metadata": {},
   "outputs": [
    {
     "name": "stdout",
     "output_type": "stream",
     "text": [
      "CONFUSION MATRIX\n",
      "[[604  31]\n",
      " [  0 631]]\n"
     ]
    }
   ],
   "source": [
    "# Evaluate\n",
    "model_prob = test_nn.predict(X_test_encode.T)\n",
    "model_pred = (model_prob >= 0.5) * 1\n",
    "print('CONFUSION MATRIX')\n",
    "print(confusion_matrix(y_test, model_pred))"
   ]
  },
  {
   "cell_type": "code",
   "execution_count": 10,
   "metadata": {},
   "outputs": [
    {
     "name": "stdout",
     "output_type": "stream",
     "text": [
      "CLASSFICATION REPORT\n",
      "              precision    recall  f1-score   support\n",
      "\n",
      "           0       1.00      0.95      0.97       635\n",
      "           1       0.95      1.00      0.98       631\n",
      "\n",
      "    accuracy                           0.98      1266\n",
      "   macro avg       0.98      0.98      0.98      1266\n",
      "weighted avg       0.98      0.98      0.98      1266\n",
      "\n"
     ]
    }
   ],
   "source": [
    "print('CLASSFICATION REPORT')\n",
    "print(classification_report(y_test, model_pred))"
   ]
  },
  {
   "cell_type": "code",
   "execution_count": 11,
   "metadata": {},
   "outputs": [
    {
     "data": {
      "image/png": "[encoded data removed]",
      "text/plain": [
       "<Figure size 432x288 with 1 Axes>"
      ]
     },
     "metadata": {
      "needs_background": "light"
     },
     "output_type": "display_data"
    }
   ],
   "source": [
    "# ROC Curve\n",
    "logit_roc_auc = roc_auc_score(y_test, model_pred)\n",
    "fpr, tpr, thresholds = roc_curve(y_test, model_prob)\n",
    "plt.figure()\n",
    "plt.plot(fpr, tpr, label='Logistic Regression (area = %0.2f)' % logit_roc_auc)\n",
    "plt.plot([0, 1], [0, 1],'r--')\n",
    "plt.xlim([0.0, 1.0])\n",
    "plt.ylim([0.0, 1.05])\n",
    "plt.xlabel('False Positive Rate')\n",
    "plt.ylabel('True Positive Rate')\n",
    "plt.title('Receiver operating characteristic')\n",
    "plt.legend(loc=\"lower right\")\n",
    "# plt.savefig('TF_classifer_Log_ROC')\n",
    "plt.show()"
   ]
  },
  {
   "cell_type": "code",
   "execution_count": null,
   "metadata": {},
   "outputs": [],
   "source": []
  }
 ],
 "metadata": {
  "kernelspec": {
   "display_name": "Python 3",
   "language": "python",
   "name": "python3"
  },
  "language_info": {
   "codemirror_mode": {
    "name": "ipython",
    "version": 3
   },
   "file_extension": ".py",
   "mimetype": "text/x-python",
   "name": "python",
   "nbconvert_exporter": "python",
   "pygments_lexer": "ipython3",
   "version": "3.8.8"
  }
 },
 "nbformat": 4,
 "nbformat_minor": 2
}
